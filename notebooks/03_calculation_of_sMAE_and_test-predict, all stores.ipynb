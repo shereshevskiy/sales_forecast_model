{
 "cells": [
  {
   "cell_type": "markdown",
   "id": "4da082fa-93a6-41fb-bafb-0c68bacdd06f",
   "metadata": {},
   "source": [
    "# <center> Work calculation of sMAE and test_predict for all stores"
   ]
  },
  {
   "cell_type": "code",
   "execution_count": 1,
   "id": "8327ec3c-4b10-48ca-8e3f-ff56a74391bc",
   "metadata": {},
   "outputs": [],
   "source": [
    "import os\n",
    "workdir = \"..\"\n",
    "os.chdir(workdir)\n",
    "\n",
    "%load_ext autoreload\n",
    "%autoreload 2"
   ]
  },
  {
   "cell_type": "code",
   "execution_count": 2,
   "id": "40fa3bf2-59e3-4553-9ad1-ad059e4ecc42",
   "metadata": {},
   "outputs": [],
   "source": [
    "import numpy as np\n",
    "import pandas as pd\n",
    "import matplotlib.pyplot as plt\n",
    "%matplotlib inline\n",
    "# plt.style.use('fivethirtyeight')\n",
    "import json\n",
    "import tqdm\n",
    "import warnings"
   ]
  },
  {
   "cell_type": "code",
   "execution_count": 3,
   "id": "36a4cc43-5c2a-451e-834a-4992b55a418a",
   "metadata": {},
   "outputs": [],
   "source": [
    "from models.forecast import SalesForecast"
   ]
  },
  {
   "cell_type": "code",
   "execution_count": 4,
   "id": "757a1565-0248-40c6-8946-06b102f157b9",
   "metadata": {},
   "outputs": [],
   "source": [
    "path_to_model = \"model_settings\"\n",
    "data_path = \"data\"\n",
    "\n",
    "train_file = \"train.csv\"\n",
    "test_file = \"test.csv\""
   ]
  },
  {
   "cell_type": "markdown",
   "id": "66ddc561-4df4-4984-9b84-7cb89ab1d80a",
   "metadata": {},
   "source": [
    "### function"
   ]
  },
  {
   "cell_type": "code",
   "execution_count": 5,
   "id": "8906cd06-35ce-4806-a33c-d1105a4c35ef",
   "metadata": {},
   "outputs": [],
   "source": [
    "def read_data(store_id, file_name=train_file, path=data_path):\n",
    "    data = pd.read_csv(os.path.join(path, file_name), index_col=1, parse_dates=True)\n",
    "    data = data[data.id == store_id].drop(\"id\", axis=1)\n",
    "    return data"
   ]
  },
  {
   "cell_type": "code",
   "execution_count": 6,
   "id": "61b5922b-dce4-40eb-b46e-09548f104e94",
   "metadata": {},
   "outputs": [],
   "source": [
    "def fill_vacation(data):\n",
    "    ind = data.index\n",
    "    full_ind = pd.date_range(ind[0], ind[-1], freq='D')\n",
    "    data = pd.DataFrame(data, index=full_ind)\n",
    "    data = data.fillna(method=\"ffill\")\n",
    "    return data"
   ]
  },
  {
   "cell_type": "code",
   "execution_count": 7,
   "id": "da32e1e3-df15-41c4-a2bb-7589f05ed814",
   "metadata": {},
   "outputs": [],
   "source": [
    "def data_preprocessing(data, store_id):\n",
    "    data = fill_vacation(data)\n",
    "    if store_id in [4, 8, 10, 13, 17]:\n",
    "        data = drop_days(data)\n",
    "    return data"
   ]
  },
  {
   "cell_type": "code",
   "execution_count": 8,
   "id": "20c17e48-e261-423a-8b5a-f8ce0f4bc012",
   "metadata": {},
   "outputs": [],
   "source": [
    "def drop_days(data, num_dropped_days=224):\n",
    "    \"\"\"\n",
    "    Deletes days where data has been missing for 7 months. \n",
    "    For correct loading into the model, the dates are shifted to be continuous. \n",
    "    In this case, the days of the week and the parity of the week number are preserved. \n",
    "    This is achieved by the correct number of deleted days \n",
    "    (equal to 224) - a multiple of 7 and the number of weeks is even: 224/7 = 32\n",
    "    \"\"\"\n",
    "    data = data.copy()\n",
    "    dropped_date = pd.date_range(\"2016-06-01\", periods=num_dropped_days, freq=\"D\")\n",
    "    data = data.drop(dropped_date)\n",
    "    ind = pd.date_range(end=data.index[-1], periods=len(data))\n",
    "    data.index = ind\n",
    "    return data"
   ]
  },
  {
   "cell_type": "code",
   "execution_count": 9,
   "id": "14664708-5fc4-4b93-b611-0e8883939432",
   "metadata": {},
   "outputs": [],
   "source": [
    "def data_split(data, num_days=31):\n",
    "    train, valid = data[:-num_days].copy(), data[-num_days:].copy()\n",
    "    return train, valid"
   ]
  },
  {
   "cell_type": "code",
   "execution_count": 10,
   "id": "8e223a9f-6ecb-4e29-9b00-b332f05f012b",
   "metadata": {},
   "outputs": [],
   "source": [
    "def calc_sMAE(predict, valid, train):\n",
    "    sMAE = (predict[\"forecast\"] - valid[\"target\"]).abs().mean() / train[\"target\"].abs().mean()\n",
    "    return sMAE"
   ]
  },
  {
   "cell_type": "markdown",
   "id": "c19b763d-8853-4c95-802b-cb5be28615c9",
   "metadata": {},
   "source": [
    "## <center>Calculation sMAE for all stores"
   ]
  },
  {
   "cell_type": "code",
   "execution_count": 11,
   "id": "3d60809f-3473-4727-8e8d-fe27a62cc790",
   "metadata": {},
   "outputs": [
    {
     "name": "stderr",
     "output_type": "stream",
     "text": [
      "100%|██████████████████████████████████████████████████████████████████████████████████████████████████████████████████████████████████████████████████| 20/20 [07:50<00:00, 23.52s/it]"
     ]
    },
    {
     "name": "stdout",
     "output_type": "stream",
     "text": [
      "Wall time: 7min 50s\n"
     ]
    },
    {
     "name": "stderr",
     "output_type": "stream",
     "text": [
      "\n"
     ]
    }
   ],
   "source": [
    "%%time\n",
    "warnings.filterwarnings('ignore')\n",
    "\n",
    "sMAEs = {}\n",
    "for store_id in tqdm.tqdm(range(20), total=20):\n",
    "    prediction_horizon = 31\n",
    "    \n",
    "    data = read_data(store_id)\n",
    "    data = data_preprocessing(data, store_id)\n",
    "    train, valid = data_split(data, prediction_horizon)\n",
    "    \n",
    "    hyperparams_file_name = f\"hyperparams_{store_id}.json\"    \n",
    "    with open(os.path.join(path_to_model, hyperparams_file_name)) as file:\n",
    "        params = json.load(file)\n",
    "    \n",
    "    sales_forecast = SalesForecast(train, params=params)\n",
    "    sales_forecast.fit()\n",
    "    \n",
    "    predict = sales_forecast.predict(prediction_horizon)\n",
    "    sMAE = calc_sMAE(predict, valid, train)\n",
    "    \n",
    "    sMAEs[store_id] = sMAE\n",
    "warnings.filterwarnings('default')"
   ]
  },
  {
   "cell_type": "code",
   "execution_count": 12,
   "id": "16a962da-8031-429b-84b1-5acf82f6e13b",
   "metadata": {},
   "outputs": [
    {
     "data": {
      "text/plain": [
       "{0: 0.13302007386771642,\n",
       " 1: 0.15570656046221154,\n",
       " 2: 0.13296007318556652,\n",
       " 3: 0.18103777497452464,\n",
       " 4: 0.1750562131822194,\n",
       " 5: 0.21175680875936226,\n",
       " 6: 0.1838098040936155,\n",
       " 7: 0.13950192940321227,\n",
       " 8: 0.1791491263083369,\n",
       " 9: 0.17169703536195088,\n",
       " 10: 0.13484542826029203,\n",
       " 11: 0.16848449298482127,\n",
       " 12: 0.22347717122285637,\n",
       " 13: 0.11284518991307839,\n",
       " 14: 0.14371403452528145,\n",
       " 15: 0.153525128273715,\n",
       " 16: 0.18534914446680595,\n",
       " 17: 0.18511088264892495,\n",
       " 18: 0.17106326352930915,\n",
       " 19: 0.15257524814377113}"
      ]
     },
     "execution_count": 12,
     "metadata": {},
     "output_type": "execute_result"
    }
   ],
   "source": [
    "sMAEs"
   ]
  },
  {
   "cell_type": "markdown",
   "id": "e2bb3f53-16a1-4e8b-9d0b-94f977f1bc87",
   "metadata": {},
   "source": [
    "## <center>Calculation predicts on full data for all stores and save to test_predict.csv"
   ]
  },
  {
   "cell_type": "code",
   "execution_count": 13,
   "id": "26de2076-393c-4de3-9e8b-d8cbba7021a9",
   "metadata": {},
   "outputs": [],
   "source": [
    "def save_predict_to_testfile(predict, store_id, test_predict_file=\"test_predict.csv\"):\n",
    "    test_predict = pd.read_csv(os.path.join(data_path, test_predict_file), index_col=0)\n",
    "    test_predict.loc[store_id, \"target\"] = predict.loc[test_predict[test_predict.index == store_id].dt].values\n",
    "    test_predict.to_csv(os.path.join(data_path, test_predict_file))"
   ]
  },
  {
   "cell_type": "code",
   "execution_count": 14,
   "id": "cc165255-a412-499d-9285-860071e7f1cb",
   "metadata": {},
   "outputs": [
    {
     "name": "stderr",
     "output_type": "stream",
     "text": [
      "100%|██████████████████████████████████████████████████████████████████████████████████████████████████████████████████████████████████████████████████| 20/20 [07:46<00:00, 23.33s/it]"
     ]
    },
    {
     "name": "stdout",
     "output_type": "stream",
     "text": [
      "Wall time: 7min 46s\n"
     ]
    },
    {
     "name": "stderr",
     "output_type": "stream",
     "text": [
      "\n"
     ]
    }
   ],
   "source": [
    "%%time\n",
    "warnings.filterwarnings('ignore')\n",
    "\n",
    "sMAEs = {}\n",
    "for store_id in tqdm.tqdm(range(20), total=20):\n",
    "    data = read_data(store_id)\n",
    "    data = data_preprocessing(data, store_id)\n",
    "    \n",
    "    hyperparams_file_name = f\"hyperparams_{store_id}.json\"    \n",
    "    with open(os.path.join(path_to_model, hyperparams_file_name)) as file:\n",
    "        params = json.load(file)\n",
    "    \n",
    "    sales_forecast = SalesForecast(data, params=params)\n",
    "    sales_forecast.fit()\n",
    "    \n",
    "    prediction_horizon = 31\n",
    "    predict = sales_forecast.predict(prediction_horizon)\n",
    "    save_predict_to_testfile(predict, store_id, test_predict_file=\"test_predict.csv\")\n",
    "\n",
    "    \n",
    "warnings.filterwarnings('default')"
   ]
  },
  {
   "cell_type": "markdown",
   "id": "7dbd8f77-d456-48e6-ab31-e2bd03307eb1",
   "metadata": {},
   "source": [
    "## Выводы:"
   ]
  },
  {
   "cell_type": "markdown",
   "id": "8f5e70d4-626f-4abb-8b70-88bfc252fdb7",
   "metadata": {},
   "source": [
    "- для прогнозов была использована модель семейства SARIMA\n",
    "- подбор гиперпараметров для store_id = 0 был проведен в ноутбуке `02_model_building_(id=0).ipynb`, \n",
    "включая **подробные комментарии и визуализации**\n",
    "- для получения итогового результата по каждому магазину был выполненен отдельный подбор гиперпараметров, см. папку `notebooks/parameters_selection`. Параметры по каждому магазину сохранены в папке `model_settings`\n",
    "- для прогнозов модель была упакована в соответствующий класс\n",
    "- для прогнозов были сформированы дополнительные фичи\n",
    "- в настоящем ноутбуке были сделаны прогнозы и валидации с помощью метрики sMAE для всез магазинов\n",
    "- тестовые прогнозы для всех магазинов посчитаны и сохранены в файл `test_predict.csv` в папке `data`"
   ]
  }
 ],
 "metadata": {
  "kernelspec": {
   "display_name": "Python 3 (ipykernel)",
   "language": "python",
   "name": "python3"
  },
  "language_info": {
   "codemirror_mode": {
    "name": "ipython",
    "version": 3
   },
   "file_extension": ".py",
   "mimetype": "text/x-python",
   "name": "python",
   "nbconvert_exporter": "python",
   "pygments_lexer": "ipython3",
   "version": "3.8.6"
  }
 },
 "nbformat": 4,
 "nbformat_minor": 5
}
